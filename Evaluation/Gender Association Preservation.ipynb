{
 "cells": [
  {
   "cell_type": "code",
   "execution_count": 1,
   "metadata": {},
   "outputs": [],
   "source": [
    "import json\n",
    "import logging\n",
    "import os\n",
    "from  nltk import ngrams\n",
    "import multiprocessing as mp\n",
    "import matplotlib.pyplot\n",
    "from math import log"
   ]
  },
  {
   "cell_type": "code",
   "execution_count": 2,
   "metadata": {},
   "outputs": [],
   "source": [
    "def load_doc(filename):\n",
    "    file = open(filename, 'r', encoding='utf-8-sig')\n",
    "    text = file.read()\n",
    "    file.close()\n",
    "    return text"
   ]
  },
  {
   "cell_type": "code",
   "execution_count": 3,
   "metadata": {},
   "outputs": [],
   "source": [
    "def getUpper(word):\n",
    "\n",
    "    word = word[0].upper() + word[1:]\n",
    "    return word"
   ]
  },
  {
   "cell_type": "code",
   "execution_count": 4,
   "metadata": {},
   "outputs": [],
   "source": [
    "DEFAULT_MALE_SPECIAL = ['beard','ejaculation','erection']\n",
    "DEFAULT_FEMALE_SPECIAL = ['pregnant','pregnancy','breast','abortion','miscarriage','menopause','dowry','bra']\n",
    "\n",
    "DEFAULT_MALE_SPECIAL += [getUpper(w) for w in DEFAULT_MALE_SPECIAL]\n",
    "DEFAULT_FEMALE_SPECIAL += [getUpper(w) for w in DEFAULT_FEMALE_SPECIAL]"
   ]
  },
  {
   "cell_type": "code",
   "execution_count": 5,
   "metadata": {},
   "outputs": [],
   "source": [
    "# gender pair list taken from GN-Glove\n",
    "DEFAULT_MALE_NOUNS = load_doc('male_word_file2.txt').split('\\n')\n",
    "DEFAULT_FEMALE_NOUNS = load_doc('female_word_file2.txt').split('\\n')\n",
    "\n",
    "DEFAULT_MALE_NOUNS += [getUpper(w) for w in DEFAULT_MALE_NOUNS if len(w)>0]\n",
    "DEFAULT_FEMALE_NOUNS += [getUpper(w) for w in DEFAULT_FEMALE_NOUNS if len(w)>0]\n",
    "\n",
    "DEFAULT_MALE_NOUNS = [w for w in DEFAULT_MALE_NOUNS if w not in DEFAULT_MALE_SPECIAL]\n",
    "DEFAULT_FEMALE_NOUNS = [w for w in DEFAULT_FEMALE_NOUNS if w not in DEFAULT_FEMALE_SPECIAL]"
   ]
  },
  {
   "cell_type": "code",
   "execution_count": 6,
   "metadata": {},
   "outputs": [],
   "source": [
    "def gender_ratios_m_f(output_data_dir,file, model,maleCount, femaleCount):\n",
    "    #n = 0\n",
    "    #tot = 0 \n",
    "    scoresP = []\n",
    "    scoresPC = []\n",
    "    with open(file,'r') as f:\n",
    "        data = json.load(f)\n",
    "    bias_record = {}\n",
    "    for words in data:\n",
    "        if (data[words]['m']+data[words]['f'] > MinCount):\n",
    "            if words in DEFAULT_MALE_SPECIAL or words in DEFAULT_FEMALE_SPECIAL:\n",
    "                pm = data[words]['m'] / maleCount\n",
    "                pf = data[words]['f'] / femaleCount\n",
    "                if words in DEFAULT_MALE_SPECIAL:\n",
    "                    score = log((data[words]['m']+1)/(data[words]['f']+1))\n",
    "                    score_c = log((pm+0.0001)/(pf+0.0001))\n",
    "                elif words in DEFAULT_FEMALE_SPECIAL:\n",
    "                    score = log((data[words]['f']+1)/(data[words]['m']+1))\n",
    "                    score_c = log((pf+0.0001)/(pm+0.0001))\n",
    "                scoresP.append(score)\n",
    "                scoresPC.append(score_c)\n",
    "                bias_record[words] = (log((data[words]['m']+1)/(data[words]['f']+1)),data[words]['m']+data[words]['f'])\n",
    "    output_file = os.path.join(output_data_dir, 'biased_words_m_f' + model)   \n",
    "    with open(output_file,'w') as fp:\n",
    "        json.dump(bias_record,fp, sort_keys=True) \n",
    "    print('words considered: ',len(scoresP))\n",
    "    print(\"Preservation_score_P: \", (sum(scoresP)/len(scoresP)))\n",
    "    print(\"Preservation_score_PC: \", (sum(scoresPC)/len(scoresPC)))\n",
    "    return scoresP,scoresPC,bias_record"
   ]
  },
  {
   "cell_type": "code",
   "execution_count": 7,
   "metadata": {},
   "outputs": [],
   "source": [
    "# Taken from jtcrammer repo\n",
    "def get_cooccurrences(file, data, window):           \n",
    "       \n",
    "    with open(file, 'r') as fp:\n",
    "        sentences = fp.read()\n",
    "        \n",
    "    male_nouns = DEFAULT_MALE_NOUNS\n",
    "    female_nouns = DEFAULT_FEMALE_NOUNS\n",
    "    n_grams = ngrams(sentences.split(), window)\n",
    "    \n",
    "    for grams in n_grams:\n",
    "        pos = 1\n",
    "        m = 0 \n",
    "        f = 0 \n",
    "        for w in grams:\n",
    "                pos+=1\n",
    "                if w not in data:\n",
    "                    data[w]= {\"m\":0, \"f\":0}\n",
    "                \n",
    "                if pos==int((window+1)/2):\n",
    "                    if w in male_nouns:\n",
    "                        m = 1\n",
    "                    if w in female_nouns:\n",
    "                        f = 1\n",
    "                    if m > 0:\n",
    "                        for t in grams:\n",
    "                            if t not in data:\n",
    "                                data[t]= {\"m\":0, \"f\":0}\n",
    "                            data[t]['m']+=1\n",
    "                    if f > 0:\n",
    "                        for t in grams:\n",
    "                            if t not in data:\n",
    "                                data[t]= {\"m\":0, \"f\":0}\n",
    "                            data[t]['f']+=1\n",
    "    return data"
   ]
  },
  {
   "cell_type": "code",
   "execution_count": 8,
   "metadata": {},
   "outputs": [],
   "source": [
    "def getGenderCounts(file):\n",
    "    with open(file, 'r') as fp:\n",
    "        sentences = fp.read()\n",
    "    tokens = sentences.split()\n",
    "    maleCount = len([w for w in tokens if w in DEFAULT_MALE_NOUNS])\n",
    "    femaleCount = len([w for w in tokens if w in DEFAULT_FEMALE_NOUNS])\n",
    "    return maleCount,femaleCount"
   ]
  },
  {
   "cell_type": "code",
   "execution_count": 19,
   "metadata": {},
   "outputs": [
    {
     "data": {
      "text/plain": [
       "['model_0',\n",
       " 'model_0.01',\n",
       " 'model_0.1',\n",
       " 'model_0.5',\n",
       " 'model_0.8',\n",
       " 'model_1',\n",
       " 'model_2',\n",
       " 'model_5',\n",
       " 'model_cda_0',\n",
       " 'model_cda_0.5']"
      ]
     },
     "execution_count": 19,
     "metadata": {},
     "output_type": "execute_result"
    }
   ],
   "source": [
    "output_data_dir = './Bias/'\n",
    "txtDir = './generated_10000/generated_10000/'\n",
    "models = os.listdir(txtDir)\n",
    "models"
   ]
  },
  {
   "cell_type": "code",
   "execution_count": 20,
   "metadata": {},
   "outputs": [],
   "source": [
    "window=10\n",
    "MinCount = 20"
   ]
  },
  {
   "cell_type": "code",
   "execution_count": 17,
   "metadata": {},
   "outputs": [
    {
     "name": "stdout",
     "output_type": "stream",
     "text": [
      "Processing:  model_cda_2\n",
      "Files: 10000\n",
      "male word ratio : 0.5015985112372954\n",
      "words considered:  3\n",
      "Bias_score_P:  -0.0029822619966020946\n",
      "Bias_score_PC:  -0.0006794488421130833\n"
     ]
    }
   ],
   "source": [
    "biasPList = []\n",
    "biasPCList = []\n",
    "scorePList = []\n",
    "scorePCList = []\n",
    "scoreDictList = []\n",
    "maleRatio = []\n",
    "for m in models:\n",
    "    data ={}\n",
    "    print(\"Processing: \",m)\n",
    "    print(\"Files:\",len(os.listdir(txtDir + m)))\n",
    "    maleCount = 0\n",
    "    femaleCount = 0\n",
    "    for file in os.listdir(txtDir + m)[:10000]:\n",
    "        txt_path = txtDir + m + '/' + file\n",
    "        data = get_cooccurrences(txt_path, data, window)\n",
    "        mCount,fCount = getGenderCounts(txt_path)\n",
    "        maleCount += mCount\n",
    "        femaleCount += fCount\n",
    "    output_file = output_data_dir + m + '.json'\n",
    "    with open(output_file,'w') as fp:\n",
    "        json.dump(data,fp)\n",
    "    print('male word ratio :', maleCount/(maleCount+femaleCount))\n",
    "    maleRatio.append(maleCount/(maleCount+femaleCount))\n",
    "    scores_p,scores_pc,scores_dict = gender_ratios_m_f(output_data_dir,output_file, m, maleCount, femaleCount)\n",
    "    scorePList.append(scores_p)\n",
    "    scorePCList.append(scores_pc)\n",
    "    scoreDictList.append(scores_dict)\n",
    "    biasPList.append(sum(scores_p)/len(scores_p))\n",
    "    biasPCList.append(sum(scores_pc)/len(scores_pc))"
   ]
  },
  {
   "cell_type": "code",
   "execution_count": 28,
   "metadata": {},
   "outputs": [],
   "source": [
    "## Just arranging model names by lambda\n",
    "mm = ['lambda_0','cda', 'lambda_0.01','lambda_0.1', 'lambda_0.5', 'lambda_0.8',\\\n",
    "      'lambda_1', 'lambda_2', 'lambda_5']\n",
    "scorePList = [dict(zip(models,scorePList))[m] for m in mm]\n",
    "scorePCList = [dict(zip(models,scorePCList))[m] for m in mm]\n",
    "biasPList = [dict(zip(models,biasPList))[m] for m in mm]\n",
    "biasPCList = [dict(zip(models,biasPCList))[m] for m in mm]\n",
    "maleRatio = [dict(zip(models,maleRatio))[m] for m in mm]\n",
    "modelsNames = mm"
   ]
  },
  {
   "cell_type": "code",
   "execution_count": 29,
   "metadata": {},
   "outputs": [
    {
     "data": {
      "image/png": "[encoded data removed]",
      "text/plain": [
       "<Figure size 432x216 with 1 Axes>"
      ]
     },
     "metadata": {
      "needs_background": "light"
     },
     "output_type": "display_data"
    },
    {
     "data": {
      "image/png": "[encoded data removed]",
      "text/plain": [
       "<Figure size 432x216 with 1 Axes>"
      ]
     },
     "metadata": {
      "needs_background": "light"
     },
     "output_type": "display_data"
    },
    {
     "data": {
      "image/png": "[encoded data removed]",
      "text/plain": [
       "<Figure size 432x216 with 1 Axes>"
      ]
     },
     "metadata": {
      "needs_background": "light"
     },
     "output_type": "display_data"
    }
   ],
   "source": [
    "import matplotlib.pyplot as plt\n",
    "%matplotlib inline\n",
    "plt.figure(figsize=(6,3))\n",
    "plt.bar(modelsNames, biasPList)\n",
    "plt.title('Avg abs( log( p(w,m) / p(w,f) ))')\n",
    "_=plt.xticks(modelsNames, rotation='vertical')\n",
    "\n",
    "plt.figure(figsize=(6,3))\n",
    "plt.bar(modelsNames, biasPCList)\n",
    "plt.title('Avg abs( log( p(w|m) / p(w|f) ))')\n",
    "_=plt.xticks(modelsNames, rotation='vertical')\n",
    "\n",
    "plt.figure(figsize=(6,3))\n",
    "plt.bar(modelsNames, maleRatio)\n",
    "plt.title(' Male Ratio: p(m|gender word) ')\n",
    "_=plt.xticks(modelsNames, rotation='vertical')"
   ]
  },
  {
   "cell_type": "code",
   "execution_count": 30,
   "metadata": {
    "scrolled": false
   },
   "outputs": [
    {
     "name": "stdout",
     "output_type": "stream",
     "text": [
      "[('beard', 1), ('pregnant', 10)]\n",
      "[('pregnant', 5), ('beard', 1)]\n",
      "[('pregnant', 13)]\n",
      "[('pregnant', 9)]\n",
      "[('pregnant', 10), ('beard', 1)]\n",
      "[('beard', 1), ('pregnant', 12)]\n",
      "[('pregnant', 16), ('beard', 1)]\n",
      "[('pregnant', 15)]\n",
      "[('pregnant', 10)]\n"
     ]
    },
    {
     "data": {
      "image/png": "[encoded data removed]",
      "text/plain": [
       "<Figure size 1080x288 with 1 Axes>"
      ]
     },
     "metadata": {
      "needs_background": "light"
     },
     "output_type": "display_data"
    },
    {
     "data": {
      "image/png": "[encoded data removed]",
      "text/plain": [
       "<Figure size 1080x288 with 1 Axes>"
      ]
     },
     "metadata": {
      "needs_background": "light"
     },
     "output_type": "display_data"
    },
    {
     "data": {
      "image/png": "[encoded data removed]",
      "text/plain": [
       "<Figure size 1080x288 with 1 Axes>"
      ]
     },
     "metadata": {
      "needs_background": "light"
     },
     "output_type": "display_data"
    },
    {
     "data": {
      "image/png": "[encoded data removed]",
      "text/plain": [
       "<Figure size 1080x288 with 1 Axes>"
      ]
     },
     "metadata": {
      "needs_background": "light"
     },
     "output_type": "display_data"
    },
    {
     "data": {
      "image/png": "[encoded data removed]",
      "text/plain": [
       "<Figure size 1080x288 with 1 Axes>"
      ]
     },
     "metadata": {
      "needs_background": "light"
     },
     "output_type": "display_data"
    },
    {
     "data": {
      "image/png": "[encoded data removed]",
      "text/plain": [
       "<Figure size 1080x288 with 1 Axes>"
      ]
     },
     "metadata": {
      "needs_background": "light"
     },
     "output_type": "display_data"
    },
    {
     "data": {
      "image/png": "[encoded data removed]",
      "text/plain": [
       "<Figure size 1080x288 with 1 Axes>"
      ]
     },
     "metadata": {
      "needs_background": "light"
     },
     "output_type": "display_data"
    },
    {
     "data": {
      "image/png": "[encoded data removed]",
      "text/plain": [
       "<Figure size 1080x288 with 1 Axes>"
      ]
     },
     "metadata": {
      "needs_background": "light"
     },
     "output_type": "display_data"
    },
    {
     "data": {
      "image/png": "[encoded data removed]",
      "text/plain": [
       "<Figure size 1080x288 with 1 Axes>"
      ]
     },
     "metadata": {
      "needs_background": "light"
     },
     "output_type": "display_data"
    }
   ],
   "source": [
    "#biasDist\n",
    "for i in range(len(modelsNames)):\n",
    "    bdict = scoreDictList[i]\n",
    "    plt.figure(figsize=(15,4))\n",
    "    values = [v[0] for v in list(bdict.values())]\n",
    "    print(list(zip(list(bdict.keys()),[v[1] for v in list(bdict.values())])))\n",
    "    plt.bar(list(bdict.keys()), values)\n",
    "    plt.title(modelsNames[i])\n",
    "    plt.ylim((-2,3))\n",
    "    _=plt.xticks(list(bdict.keys()), rotation='vertical')"
   ]
  },
  {
   "cell_type": "code",
   "execution_count": null,
   "metadata": {},
   "outputs": [],
   "source": []
  }
 ],
 "metadata": {
  "kernelspec": {
   "display_name": "Python 3",
   "language": "python",
   "name": "python3"
  },
  "language_info": {
   "codemirror_mode": {
    "name": "ipython",
    "version": 3
   },
   "file_extension": ".py",
   "mimetype": "text/x-python",
   "name": "python",
   "nbconvert_exporter": "python",
   "pygments_lexer": "ipython3",
   "version": "3.7.1"
  }
 },
 "nbformat": 4,
 "nbformat_minor": 2
}
