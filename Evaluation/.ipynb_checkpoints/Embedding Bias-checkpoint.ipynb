{
 "cells": [
  {
   "cell_type": "code",
   "execution_count": null,
   "metadata": {
    "collapsed": true
   },
   "outputs": [],
   "source": [
    "import time\n",
    "import math\n",
    "import os\n",
    "import torch\n",
    "import torch.nn as nn\n",
    "import torch.onnx\n",
    "import numpy as np\n",
    "\n",
    "import data\n",
    "import model as modelScript\n",
    "import pickle\n",
    "import json\n",
    "\n",
    "import matplotlib.pyplot as plt\n",
    "%matplotlib inline"
   ]
  },
  {
   "cell_type": "code",
   "execution_count": null,
   "metadata": {
    "collapsed": true
   },
   "outputs": [],
   "source": [
    "from sklearn import metrics\n",
    "from sklearn.cluster import KMeans"
   ]
  },
  {
   "cell_type": "code",
   "execution_count": null,
   "metadata": {
    "collapsed": true
   },
   "outputs": [],
   "source": [
    "cuda = True\n",
    "seed = 20190328\n",
    "\n",
    "# Set the random seed manually for reproducibility.\n",
    "torch.manual_seed(seed)\n",
    "if torch.cuda.is_available():\n",
    "    if not cuda:\n",
    "        print(\"WARNING: You have a CUDA device, so you should probably run with --cuda\")\n",
    "\n",
    "device = torch.device(\"cuda\" if cuda else \"cpu\")"
   ]
  },
  {
   "cell_type": "code",
   "execution_count": null,
   "metadata": {
    "collapsed": true
   },
   "outputs": [],
   "source": [
    "dataDir = './cda_wikitext/cda/'\n",
    "corpus = data.Corpus(dataDir)"
   ]
  },
  {
   "cell_type": "code",
   "execution_count": null,
   "metadata": {
    "collapsed": true
   },
   "outputs": [],
   "source": [
    "MALE_NOUNS = [\n",
    "    'gentleman', 'man', 'men', 'gentlemen', 'male', 'males', 'boy', 'boyfriend', 'actor',\\\n",
    "    'prince', 'king', 'kings','uncle', \\\n",
    "    'groom', 'widower', 'grandson', 'grandfather','monk',\n",
    "    'boys', 'he', 'his', 'him', 'husband', 'husbands', 'son' , 'sons', \\\n",
    "    'brother', 'brothers','himself'\n",
    "]\n",
    "\n",
    "FEMALE_NOUNS = [\n",
    "    'woman', 'women', 'ladies', 'female', 'females', 'girl', 'girlfriend', 'actress', \\\n",
    "    'princess', 'queen', 'queens','aunt', 'bride', 'blonde', 'widow', 'granddaughter', \\\n",
    "    'grandmother', 'granny',\n",
    "    'girlfriends', 'girls', 'her', 'hers', 'lady', 'she', 'wife', 'wives', 'daughter', 'daughters', \\\n",
    "    'sister', 'sisters', 'herself'\n",
    "]"
   ]
  },
  {
   "cell_type": "code",
   "execution_count": null,
   "metadata": {
    "collapsed": true
   },
   "outputs": [],
   "source": [
    "# femaleBiased = ['petite', 'mums', 'bra', 'breastfeeding', 'sassy']\n",
    "# maleBiased = ['rookie', 'burly', 'hero', 'training camp', 'journeyman']"
   ]
  },
  {
   "cell_type": "code",
   "execution_count": null,
   "metadata": {
    "collapsed": true
   },
   "outputs": [],
   "source": [
    "femaleBiasWords = \"commissioning eggs pregnancy beautiful alien rape damaged clothing dancing badly wear baby \\\n",
    "singers artist fired sound dress marry wedding dressed sex Mary independent artists chorus assisted chicks\"\n",
    "femaleBiasWords = femaleBiasWords.split()\n",
    "len(femaleBiasWords)"
   ]
  },
  {
   "cell_type": "code",
   "execution_count": null,
   "metadata": {
    "collapsed": true
   },
   "outputs": [],
   "source": [
    "maleBiasWords = \"travel teammate squad senior secured salary reign promotion policies officer leadership \\\n",
    "hosts hat guitar governors goals generals driver doctoral defend defeat deputy chief conservative colleagues \\\n",
    "chair bull battalion bat authority appointment ally Museum Academy match succeeded speech retirement selected \\\n",
    "heir kingdom camp commander University financial rival castle crown studies manager informed religion arrested\"\n",
    "maleBiasWords = maleBiasWords.split()\n",
    "len(maleBiasWords)"
   ]
  },
  {
   "cell_type": "code",
   "execution_count": null,
   "metadata": {
    "collapsed": true
   },
   "outputs": [],
   "source": [
    "words = femaleBiasWords + maleBiasWords\n",
    "labels = [0 for w in femaleBiasWords] + [1 for w in maleBiasWords]"
   ]
  },
  {
   "cell_type": "code",
   "execution_count": null,
   "metadata": {
    "collapsed": true
   },
   "outputs": [],
   "source": [
    "def clusterPerformance():\n",
    "    word_indexes = torch.tensor([corpus.dictionary.word2idx[w] for w in words]).to(device)\n",
    "    vectors = model.encoder(word_indexes)\n",
    "    vectors = vectors.cpu().detach().numpy()\n",
    "    print(vectors.shape)\n",
    "    kmeans = KMeans(n_clusters=2)\n",
    "    kmeans.fit(vectors)\n",
    "    p = sum(kmeans.labels_ == labels)/ len(labels)\n",
    "    return max(p,1-p)"
   ]
  },
  {
   "cell_type": "code",
   "execution_count": null,
   "metadata": {
    "collapsed": true
   },
   "outputs": [],
   "source": [
    "modelDir = ''\n",
    "modelFiles = [m for m in os.listdir(modelDir) if m.endswith('.pt')]\n",
    "modelFiles"
   ]
  },
  {
   "cell_type": "code",
   "execution_count": null,
   "metadata": {
    "collapsed": true
   },
   "outputs": [],
   "source": [
    "save = modelDir + modelFiles[3]"
   ]
  },
  {
   "cell_type": "code",
   "execution_count": null,
   "metadata": {
    "collapsed": true
   },
   "outputs": [],
   "source": [
    "with open(save, 'rb') as f:\n",
    "        model = torch.load(f)\n",
    "        # after load the rnn params are not a continuous chunk of memory\n",
    "        # this makes them a continuous chunk, and will speed up forward pass\n",
    "        model.rnn.flatten_parameters()"
   ]
  },
  {
   "cell_type": "code",
   "execution_count": null,
   "metadata": {
    "collapsed": true
   },
   "outputs": [],
   "source": [
    "clusterPerformance()"
   ]
  },
  {
   "cell_type": "code",
   "execution_count": null,
   "metadata": {
    "collapsed": true
   },
   "outputs": [],
   "source": [
    "word_indexes = torch.tensor([corpus.dictionary.word2idx[w] for w in words]).to(device)\n",
    "male_indexes = torch.tensor([corpus.dictionary.word2idx[w] for w in MALE_NOUNS]).to(device)\n",
    "female_indexes = torch.tensor([corpus.dictionary.word2idx[w] for w in FEMALE_NOUNS]).to(device)"
   ]
  },
  {
   "cell_type": "code",
   "execution_count": null,
   "metadata": {
    "collapsed": true
   },
   "outputs": [],
   "source": [
    "with torch.no_grad():\n",
    "    word_vectors = model.encoder(word_indexes)\n",
    "    male_vectors = model.encoder(male_indexes)\n",
    "    female_vectors = model.encoder(female_indexes)"
   ]
  },
  {
   "cell_type": "code",
   "execution_count": null,
   "metadata": {
    "collapsed": true,
    "scrolled": true
   },
   "outputs": [],
   "source": [
    "def distance(v1,v2):\n",
    "    return torch.pow(torch.sum(torch.pow(v1-v2,2)),0.5).item()"
   ]
  },
  {
   "cell_type": "code",
   "execution_count": null,
   "metadata": {
    "collapsed": true
   },
   "outputs": [],
   "source": [
    "m_a_d = []\n",
    "f_a_d = []\n",
    "for w in  word_vectors:\n",
    "    m_d = []\n",
    "    for m in male_vectors:\n",
    "        m_d.append(distance(w,m))\n",
    "    m_a_d.append(sum(m_d)/len(m_d))\n",
    "    f_d = []\n",
    "    for f in female_vectors:\n",
    "        f_d.append(distance(w,f))\n",
    "    f_a_d.append(sum(f_d)/len(f_d))    "
   ]
  },
  {
   "cell_type": "code",
   "execution_count": null,
   "metadata": {
    "collapsed": true
   },
   "outputs": [],
   "source": [
    "femaleMaleAvgDist = [m for m,l in zip(m_a_d,labels) if l == 0]\n",
    "femaleMaleAvgDist = sum(femaleMaleAvgDist) / len(femaleMaleAvgDist)\n",
    "femaleMaleAvgDist"
   ]
  },
  {
   "cell_type": "code",
   "execution_count": null,
   "metadata": {
    "collapsed": true
   },
   "outputs": [],
   "source": [
    "maleMaleAvgDist = [m for m,l in zip(m_a_d,labels) if l == 1]\n",
    "maleMaleAvgDist = sum(maleMaleAvgDist) / len(maleMaleAvgDist)\n",
    "maleMaleAvgDist"
   ]
  },
  {
   "cell_type": "code",
   "execution_count": null,
   "metadata": {
    "collapsed": true
   },
   "outputs": [],
   "source": [
    "femaleMaleAvgDist = [m for m,l in zip(m_a_d,labels) if l == 0]\n",
    "femaleMaleAvgDist = sum(femaleMaleAvgDist) / len(femaleMaleAvgDist)\n",
    "femaleMaleAvgDist"
   ]
  },
  {
   "cell_type": "code",
   "execution_count": null,
   "metadata": {
    "collapsed": true
   },
   "outputs": [],
   "source": [
    "maleMaleAvgDist = [m for m,l in zip(m_a_d,labels) if l == 1]\n",
    "maleMaleAvgDist = sum(maleMaleAvgDist) / len(maleMaleAvgDist)\n",
    "maleMaleAvgDist"
   ]
  },
  {
   "cell_type": "code",
   "execution_count": null,
   "metadata": {
    "collapsed": true
   },
   "outputs": [],
   "source": []
  }
 ],
 "metadata": {
  "kernelspec": {
   "display_name": "Python 3",
   "language": "python",
   "name": "python3"
  },
  "language_info": {
   "codemirror_mode": {
    "name": "ipython",
    "version": 3
   },
   "file_extension": ".py",
   "mimetype": "text/x-python",
   "name": "python",
   "nbconvert_exporter": "python",
   "pygments_lexer": "ipython3",
   "version": "3.6.8"
  }
 },
 "nbformat": 4,
 "nbformat_minor": 2
}
