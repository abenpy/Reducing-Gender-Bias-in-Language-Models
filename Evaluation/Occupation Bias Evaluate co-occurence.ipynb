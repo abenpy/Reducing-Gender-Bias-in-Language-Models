{
 "cells": [
  {
   "cell_type": "code",
   "execution_count": 2,
   "metadata": {},
   "outputs": [],
   "source": [
    "import json\n",
    "import logging\n",
    "import os\n",
    "from  nltk import ngrams\n",
    "import multiprocessing as mp\n",
    "import matplotlib.pyplot\n",
    "import data"
   ]
  },
  {
   "cell_type": "code",
   "execution_count": 44,
   "metadata": {},
   "outputs": [],
   "source": [
    "DEFAULT_MALE_NOUNS = [\n",
    "    'countryman',\n",
    "    'fraternal','wizards','manservant','fathers','divo','actor','bachelor','papa',\n",
    "    'dukes','barman','countrymen','brideprice','hosts','potential_suitors','airmen','andropause',\n",
    "    'penis','prince','governors','abbot','men','widower','gentlemen','sorcerers','sir',\n",
    "    'bridegrooms','baron','househusbands','gods','nephew','widowers','lord','brother',\n",
    "    'grooms','priest','adultors','andrology','bellboys','his','marquis','princes','emperors',\n",
    "    'stallion','chairman','monastery','priests','boyhood','fellas','king','dudes',\n",
    "    'daddies','manservant','semen','spokesman','tailor','cowboys','dude','bachelors','barbershop','emperor','daddy',\n",
    "    'masculism','guys','enchanter','guy','fatherhood','androgen','cameramen','godfather',\n",
    "    'strongman','god','patriarch','uncle','chairmen','sir','brotherhood','host','testosterone',\n",
    "    'husband','dad','steward','males','cialis','spokesmen','pa','beau','stud','bachelor',\n",
    "    'wizard','sir','nephews','fathered','bull','beaus','councilmen','landladies','grandson',\n",
    "    'fiances','stepfathers','horsewomen','grandfathers','adultor','schoolboy','rooster','grandsons',\n",
    "    'bachelor','cameraman','dads','him','master','lad','policeman','monk','actors','salesmen',\n",
    "    'boyfriend','councilman','fella','statesman','paternal','chap','landlord','brethren','lords',\n",
    "    'blokes','fraternity','bellboy','duke','ballet_dancer','dudes','fiance','colts',\n",
    "    'husbands','suitor','maternity','he','businessman','masseurs',\n",
    "    'hero','deer','busboys','boyfriends','kings','brothers','masters','stepfather','brides',\n",
    "    'son','studs','cowboy','mentleman','sons','baritone','salesman','paramour','male_host',\n",
    "    'monks','menservants',\"mr.\",'headmasters','lads','congressman','airman','househusband',\n",
    "    'priest','barmen','barons','abbots','handyman','beard','fraternities','stewards','colt',\n",
    "    'czar','stepsons','himself','boys','lions','gentleman','his','masseur','bulls','uncles','bloke','beards',\n",
    "    'hubby','lion','sorcerer','macho','father','gays','male','waiters','stepson','prostatic_utricle',\n",
    "    'businessmen','heir','waiter','headmaster','man','governor','god','bridegroom','grandpa',\n",
    "    'groom','dude','gay','gents','boy','grandfather','gelding','paternity',\n",
    "    'roosters','prostatic_utricle','priests','manservants','stailor','busboy','heros'\n",
    "    ]\n",
    "\n",
    "#yusu added special\n",
    "DEFAULT_MALE_SPECIAL = [\n",
    "    'sperm','beard','mustache',\n",
    "    'ejaculation','erection','scrotum','penis','testicles','epididymis'\n",
    "]\n",
    "\n",
    "#yusu added words from the rule file\n",
    "DEFAULT_FEMALE_NOUNS = [\n",
    "    'woman', 'women', 'ladies', 'female', 'females', 'girl', 'girlfriend',\n",
    "    'girlfriends', 'girls', 'her', 'hers', 'lady', 'she', 'wife', 'wives','countrywoman',\n",
    "'sororal','witches','maidservant','mothers','diva','actress','spinster','mama',\n",
    "    'duchesses','barwoman','countrywomen','dowry','hostesses','airwomen','princess',\n",
    "    'governesses','abbess','women','widow','ladies','sorceresses','madam','brides',\n",
    "    'baroness','housewives','godesses','niece','widows','lady',\n",
    "'sister','brides','nun','adultresses','obstetrics','bellgirls','her','marchioness',\n",
    "    'princesses','empresses','mare','chairwoman','convent','priestesses','girlhood',\n",
    "    'ladies','queen','gals','mommies','maid','female_ejaculation','spokeswoman','seamstress',\n",
    "    'cowgirls','chick','spinsters','empress','mommy','feminism','gals','enchantress','gal','motherhood','estrogen'\n",
    "    'camerawomen','godmother','strongwoman','goddess','matriarch','aunt','chairwomen',\"ma'am\",\n",
    "    'sisterhood','hostess','estradiol','wife','mom','stewardess','females','viagra',\n",
    "    'spokeswomen','ma','belle','minx','maiden','witch','miss','nieces','mothered',\n",
    "    'cow','belles','councilwomen','landlords','granddaughter','fiancees','stepmothers',\n",
    "    'horsemen','grandmothers','adultress','schoolgirl','hen','granddaughters','bachelorette',\n",
    "    'camerawoman','moms','her','mistress','lass','policewoman','nun','actresses',\n",
    "    'saleswomen','girlfriend','councilwoman','lady','stateswoman','maternal',\n",
    "    'lass','landlady','sistren','ladies','wenches','sorority','bellgirl','duchess',\n",
    "    'ballerina','chicks','fiancee','fillies','wives','suitress','paternity','she',\n",
    "    'businesswoman','masseuses','heroine','doe','busgirls','girlfriends','queens',\n",
    "    'sisters','mistresses','stepmother','grooms','daughter','minxes','cowgirl',\n",
    "    'lady','daughters','mezzo','saleswoman','mistress','hostess','nuns','maids',\"mrs.\",\n",
    "    'headmistresses','lasses','congresswoman','airwoman','housewife','priestess','barwomen',\n",
    "    'barnoesses','abbesses','handywoman','toque','sororities','stewardesses',\n",
    "    'filly','czarina','stepdaughters','herself','girls','lionesses','lady','vagina','hers','masseuse','cows','aunts',\n",
    "    'wench','toques','wife','lioness','sorceress','effeminate','mother','lesbians',\n",
    "    'female','waitresses','skene_gland','stepdaughter','womb','businesswomen',\n",
    "    'heiress','waitress','headmistress','woman','governess','godess','bride','grandma','bride','gal','lesbian','ladies','girl',\n",
    "    'grandmother','mare','maternity','hens','nuns','maidservants','seamstress','busgirl','heroines'\n",
    "]\n",
    "\n",
    "\n",
    "DEFAULT_FEMALE_SPECIAL = [\n",
    "    'dowry',\n",
    "    'womb','pregnant','pregnancy','breast','abortion','miscarriage','clitoris',\n",
    "    'menopause','vagina','uterus','ovaries'\n",
    "]"
   ]
  },
  {
   "cell_type": "code",
   "execution_count": 45,
   "metadata": {},
   "outputs": [],
   "source": [
    "dataDir = './data/wikitext-2'"
   ]
  },
  {
   "cell_type": "code",
   "execution_count": 46,
   "metadata": {},
   "outputs": [],
   "source": [
    "corpus = data.Corpus(dataDir)\n",
    "ntokens = len(corpus.dictionary)"
   ]
  },
  {
   "cell_type": "code",
   "execution_count": 47,
   "metadata": {},
   "outputs": [
    {
     "data": {
      "text/plain": [
       "28"
      ]
     },
     "execution_count": 47,
     "metadata": {},
     "output_type": "execute_result"
    }
   ],
   "source": [
    "occupations = \"carpenter mechanician construction worker laborer driver sheriff mover developer \\\n",
    "farmer guard chief janitor lawyer cook physician ceo analyst manager supervisor salesperson \\\n",
    "editor designers accountant auditor writer baker clerk cashier counselors attendant teacher \\\n",
    "sewer librarian assistant cleaner housekeeper nurse receptionist hairdressers secretary\"\n",
    "occupations = occupations.split()\n",
    "occupations = [o for o in occupations if o in corpus.dictionary.word2idx]\n",
    "len(occupations)"
   ]
  },
  {
   "cell_type": "code",
   "execution_count": 48,
   "metadata": {},
   "outputs": [],
   "source": [
    "def sortbybias(d):\n",
    "    d_s = sorted(d.items(), key = lambda t: t[1] )\n",
    "    return d_s"
   ]
  },
  {
   "cell_type": "code",
   "execution_count": 55,
   "metadata": {},
   "outputs": [],
   "source": [
    "def gender_ratios_m_f(output_data_dir,file, model):\n",
    "    n = 0\n",
    "    tot = 0 \n",
    "    print(\"Gender Ratios...\")\n",
    "    with open(file,'r') as f:\n",
    "        data = json.load(f)\n",
    "    bias_record = {}\n",
    "    for words in data:\n",
    "        #if (data[words]['m']+data[words]['f']!=0 and data[words]['f']!=0 and data[words]['m']!=0):\n",
    "        if (data[words]['m']+data[words]['f'] > 5):\n",
    "            score = data[words]['m']/(data[words]['m']+data[words]['f'])\n",
    "            if words in occupations:\n",
    "                tot+=score\n",
    "                n +=1\n",
    "            rec = {\"b_score\" : score}\n",
    "            data[words].update(rec)\n",
    "            bias_record[words] = json.dumps(data[words])\n",
    "    #print(bias_record)\n",
    "    #print(sortbybias(bias_record))\n",
    "    output_file = os.path.join(output_data_dir, 'biased_words_m_f' + model)   \n",
    "    print(\"Bias_score: \", (tot/n))\n",
    "    #print('occupations used: ',n)\n",
    "    with open(output_file,'w') as fp:\n",
    "        json.dump(bias_record,fp, sort_keys=True) \n",
    "    print('n: ',n)\n",
    "    return tot/n"
   ]
  },
  {
   "cell_type": "code",
   "execution_count": 50,
   "metadata": {},
   "outputs": [],
   "source": [
    "def gender_ratios(output_data_dir,file, model):\n",
    "    print(\"Gender Ratios...\")\n",
    "    with open(file,'r') as f:\n",
    "        data = json.load(f)\n",
    "    bias_record = {}\n",
    "    for words in data:\n",
    "        if (data[words]['m']+data[words]['f']!=0):\n",
    "            score = data[words]['m']/(data[words]['m']+data[words]['f'])\n",
    "            rec = {\"b_score\" : score}\n",
    "            data[words].update(rec)\n",
    "            bias_record[words] = json.dumps(data[words])\n",
    "    #print(bias_record)\n",
    "    #print(sortbybias(bias_record))\n",
    "    output_file = os.path.join(output_data_dir, 'biased_words_' + model)    \n",
    "    with open(output_file,'w') as fp:\n",
    "        json.dump(bias_record,fp, sort_keys=True) "
   ]
  },
  {
   "cell_type": "code",
   "execution_count": 51,
   "metadata": {},
   "outputs": [],
   "source": [
    "def preservation_ratios_m_f(output_data_dir,file,model):\n",
    "    n = 0\n",
    "    tot = 0 \n",
    "    print(\"Preservation Ratios...\")\n",
    "    with open(file,'r') as f:\n",
    "        data = json.load(f)\n",
    "    preserve_record = {}\n",
    "    #yusu edited the next line\n",
    "    for words in data:\n",
    "        if (data[words]['m']+data[words]['f']!=0 ):\n",
    "            if words in DEFAULT_MALE_SPECIAL or words in DEFAULT_FEMALE_SPECIAL:        \n",
    "                #print(data[words])\n",
    "                #yusu edited the next line\n",
    "                if words in DEFAULT_MALE_SPECIAL:\n",
    "                    score2 = data[words]['m']/(data[words]['m']+data[words]['f'])\n",
    "                elif words in DEFAULT_FEMALE_SPECIAL:\n",
    "                    score2 = data[words]['f']/(data[words]['m']+data[words]['f'])\n",
    "                tot+=score2\n",
    "                n +=1\n",
    "                rec = {\"p_score\" : score2}\n",
    "                data[words].update(rec)\n",
    "                preserve_record[words] = json.dumps(data[words])\n",
    "            \n",
    "    # print(bias_record)\n",
    "    # print(sortbybias(bias_record))\n",
    "    output_file = os.path.join(output_data_dir, 'preserved_words_m_f'+ model)\n",
    "    if n > 0:\n",
    "        print(\"Preservation_score: \", (tot/n))\n",
    "    else: \n",
    "        print('Special Words dont co occur with gender.')\n",
    "    with open(output_file,'w') as fp:\n",
    "        json.dump(preserve_record,fp, sort_keys=True)  \n"
   ]
  },
  {
   "cell_type": "code",
   "execution_count": 52,
   "metadata": {},
   "outputs": [],
   "source": [
    "def get_cooccurrences(file, data, window):           \n",
    "       \n",
    "    with open(file, 'r') as fp:\n",
    "        #print(fp)\n",
    "        sentences = fp.read()\n",
    "\n",
    "    male_nouns = DEFAULT_MALE_NOUNS\n",
    "    female_nouns = DEFAULT_FEMALE_NOUNS\n",
    "    n_grams = ngrams(sentences.split(), window)\n",
    "    \n",
    "    for grams in n_grams:\n",
    "        pos = 1\n",
    "        m = 0 \n",
    "        f = 0 \n",
    "        for w in grams:\n",
    "                pos+=1\n",
    "                if w not in data:\n",
    "                    data[w]= {\"m\":0, \"f\":0}\n",
    "                \n",
    "                if pos==int((window+1)/2):\n",
    "                    if w in male_nouns:\n",
    "                        m = 1\n",
    "                    if w in female_nouns:\n",
    "                        f = 1\n",
    "                    if m > 0:\n",
    "                        for t in grams:\n",
    "                            if t not in data:\n",
    "                                data[t]= {\"m\":0, \"f\":0}\n",
    "                            data[t]['m']+=1\n",
    "                    if f > 0:\n",
    "                        for t in grams:\n",
    "                            if t not in data:\n",
    "                                data[t]= {\"m\":0, \"f\":0}\n",
    "                            data[t]['f']+=1\n",
    "    return data"
   ]
  },
  {
   "cell_type": "code",
   "execution_count": 58,
   "metadata": {},
   "outputs": [
    {
     "data": {
      "text/plain": [
       "['lambda_0.5', 'lambda_1', 'lambda_0', 'lambda_2', 'lambda_5']"
      ]
     },
     "execution_count": 58,
     "metadata": {},
     "output_type": "execute_result"
    }
   ],
   "source": [
    "window=30\n",
    "output_data_dir = './Bias/'\n",
    "txtDir = './generated/'\n",
    "models = os.listdir(txtDir)\n",
    "biasList = []\n",
    "models"
   ]
  },
  {
   "cell_type": "code",
   "execution_count": 56,
   "metadata": {},
   "outputs": [
    {
     "name": "stdout",
     "output_type": "stream",
     "text": [
      "Processing:  lambda_0.5\n",
      "Files: 1032\n",
      "Gender Ratios...\n",
      "Bias_score:  0.5036676286676287\n",
      "n:  6\n",
      "Processing:  lambda_1\n",
      "Files: 1000\n",
      "Gender Ratios...\n",
      "Bias_score:  0.5491750488074018\n",
      "n:  8\n",
      "Processing:  lambda_0\n",
      "Files: 1000\n",
      "Gender Ratios...\n",
      "Bias_score:  0.6993872793872794\n",
      "n:  5\n",
      "Processing:  lambda_2\n",
      "Files: 1000\n",
      "Gender Ratios...\n",
      "Bias_score:  0.6052057845536106\n",
      "n:  6\n",
      "Processing:  lambda_5\n",
      "Files: 1000\n",
      "Gender Ratios...\n",
      "Bias_score:  0.4737103174603175\n",
      "n:  8\n"
     ]
    }
   ],
   "source": [
    "for m in models:\n",
    "    data ={}\n",
    "    print(\"Processing: \",m)\n",
    "    print(\"Files:\",len(os.listdir(txtDir + m)))\n",
    "    for file in os.listdir(txtDir + m):\n",
    "        txt_path = txtDir + m + '/' + file\n",
    "        data = get_cooccurrences(txt_path, data, window)\n",
    "        #print(len(data))\n",
    "    output_file = output_data_dir + m + '.json'\n",
    "    with open(output_file,'w') as fp:\n",
    "        json.dump(data,fp)\n",
    "    bias = gender_ratios_m_f(output_data_dir,output_file, m)\n",
    "    biasList.append(bias)"
   ]
  }
 ],
 "metadata": {
  "kernelspec": {
   "display_name": "Python 3",
   "language": "python",
   "name": "python3"
  },
  "language_info": {
   "codemirror_mode": {
    "name": "ipython",
    "version": 3
   },
   "file_extension": ".py",
   "mimetype": "text/x-python",
   "name": "python",
   "nbconvert_exporter": "python",
   "pygments_lexer": "ipython3",
   "version": "3.6.6"
  }
 },
 "nbformat": 4,
 "nbformat_minor": 2
}
