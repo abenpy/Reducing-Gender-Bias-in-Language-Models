{
 "cells": [
  {
   "cell_type": "code",
   "execution_count": null,
   "metadata": {},
   "outputs": [],
   "source": [
    "import json\n",
    "import logging\n",
    "import os\n",
    "from  nltk import ngrams\n",
    "import multiprocessing as mp\n",
    "import matplotlib.pyplot\n",
    "from math import log"
   ]
  },
  {
   "cell_type": "code",
   "execution_count": null,
   "metadata": {},
   "outputs": [],
   "source": [
    "def load_doc(filename):\n",
    "    file = open(filename, 'r', encoding='utf-8-sig')\n",
    "    text = file.read()\n",
    "    file.close()\n",
    "    return text"
   ]
  },
  {
   "cell_type": "code",
   "execution_count": null,
   "metadata": {},
   "outputs": [],
   "source": [
    "# gender pair list taken from GN-Glove\n",
    "DEFAULT_MALE_NOUNS = load_doc('male_word_file.txt').split('\\n')\n",
    "DEFAULT_FEMALE_NOUNS = load_doc('female_word_file.txt').split('\\n')"
   ]
  },
  {
   "cell_type": "code",
   "execution_count": null,
   "metadata": {},
   "outputs": [],
   "source": [
    "def gender_ratios_m_f(output_data_dir,file, model,maleCount, femaleCount):\n",
    "    scoresP = []\n",
    "    scoresPC = []\n",
    "    with open(file,'r') as f:\n",
    "        data = json.load(f)\n",
    "    bias_record = {}\n",
    "    for words in data:\n",
    "        if (data[words]['m']+data[words]['f'] > MinCount):\n",
    "            if words not in DEFAULT_MALE_NOUNS and words not in DEFAULT_FEMALE_NOUNS:\n",
    "                score = abs(log((data[words]['m']+1)/(data[words]['f']+1)))\n",
    "                scoresP.append(score)\n",
    "                pm = data[words]['m'] / maleCount\n",
    "                pf = data[words]['f'] / femaleCount\n",
    "                score_c = abs(log((pm+0.0001)/(pf+0.0001)))\n",
    "                scoresPC.append(score_c)\n",
    "    output_file = os.path.join(output_data_dir, 'biased_words_m_f' + model)   \n",
    "    with open(output_file,'w') as fp:\n",
    "        json.dump(bias_record,fp, sort_keys=True) \n",
    "    print('words considered: ',len(scoresP))\n",
    "    print(\"Bias_score_P: \", (sum(scoresP)/len(scoresP)))\n",
    "    print(\"Bias_score_PC: \", (sum(scoresPC)/len(scoresPC)))\n",
    "    return scoresP,scoresPC"
   ]
  },
  {
   "cell_type": "code",
   "execution_count": null,
   "metadata": {},
   "outputs": [],
   "source": [
    "# Taken from jtcrammer repo\n",
    "def get_cooccurrences(file, data, window):           \n",
    "       \n",
    "    with open(file, 'r',encoding='utf-8-sig') as fp:\n",
    "        sentences = fp.read()\n",
    "        \n",
    "    male_nouns = DEFAULT_MALE_NOUNS\n",
    "    female_nouns = DEFAULT_FEMALE_NOUNS\n",
    "    n_grams = ngrams(sentences.split(), window)\n",
    "    \n",
    "    for grams in n_grams:\n",
    "        pos = 1\n",
    "        m = 0 \n",
    "        f = 0 \n",
    "        for w in grams:\n",
    "                pos+=1\n",
    "                if w not in data:\n",
    "                    data[w]= {\"m\":0, \"f\":0}\n",
    "                \n",
    "                if pos==int((window+1)/2):\n",
    "                    if w in male_nouns:\n",
    "                        m = 1\n",
    "                    if w in female_nouns:\n",
    "                        f = 1\n",
    "                    if m > 0:\n",
    "                        for t in grams:\n",
    "                            if t not in data:\n",
    "                                data[t]= {\"m\":0, \"f\":0}\n",
    "                            data[t]['m']+=1\n",
    "                    if f > 0:\n",
    "                        for t in grams:\n",
    "                            if t not in data:\n",
    "                                data[t]= {\"m\":0, \"f\":0}\n",
    "                            data[t]['f']+=1\n",
    "    return data"
   ]
  },
  {
   "cell_type": "code",
   "execution_count": null,
   "metadata": {},
   "outputs": [],
   "source": [
    "def getGenderCounts(file):\n",
    "    with open(file, 'r',encoding='utf-8-sig') as fp:\n",
    "        sentences = fp.read()\n",
    "    tokens = sentences.split()\n",
    "    maleCount = len([w for w in tokens if w in DEFAULT_MALE_NOUNS])\n",
    "    femaleCount = len([w for w in tokens if w in DEFAULT_FEMALE_NOUNS])\n",
    "    return maleCount,femaleCount"
   ]
  },
  {
   "cell_type": "code",
   "execution_count": null,
   "metadata": {},
   "outputs": [],
   "source": [
    "output_data_dir = ''\n",
    "txtDir = ''\n",
    "models = os.listdir(txtDir)\n",
    "models"
   ]
  },
  {
   "cell_type": "code",
   "execution_count": null,
   "metadata": {},
   "outputs": [],
   "source": [
    "window=10\n",
    "MinCount = 20"
   ]
  },
  {
   "cell_type": "code",
   "execution_count": null,
   "metadata": {},
   "outputs": [],
   "source": [
    "biasPList = []\n",
    "biasPCList = []\n",
    "scorePList = []\n",
    "scorePCList = []\n",
    "maleRatio = []\n",
    "for m in models:\n",
    "    data ={}\n",
    "    print(\"Processing: \",m)\n",
    "    print(\"Files:\",len(os.listdir(txtDir + m)))\n",
    "    maleCount = 0\n",
    "    femaleCount = 0\n",
    "    for file in os.listdir(txtDir + m):\n",
    "        txt_path = txtDir + m + '/' + file\n",
    "        data = get_cooccurrences(txt_path, data, window)\n",
    "        mCount,fCount = getGenderCounts(txt_path)\n",
    "        maleCount += mCount\n",
    "        femaleCount += fCount\n",
    "    output_file = output_data_dir + m + '.json'\n",
    "    with open(output_file,'w') as fp:\n",
    "        json.dump(data,fp)\n",
    "    print('male word ratio :', maleCount/(maleCount+femaleCount))\n",
    "    maleRatio.append(maleCount/(maleCount+femaleCount))\n",
    "    scores_p,scores_pc = gender_ratios_m_f(output_data_dir,output_file, m, maleCount, femaleCount)\n",
    "    scorePList.append(scores_p)\n",
    "    scorePCList.append(scores_pc)\n",
    "    biasPList.append(sum(scores_p)/len(scores_p))\n",
    "    biasPCList.append(sum(scores_pc)/len(scores_pc))"
   ]
  },
  {
   "cell_type": "code",
   "execution_count": null,
   "metadata": {},
   "outputs": [],
   "source": [
    "## Just arranging model names by lambda\n",
    "mm = ['lambda_0','cda', 'lambda_0.01','lambda_0.1', 'lambda_0.5', 'lambda_0.8',\\\n",
    "      'lambda_1', 'lambda_2', 'lambda_5','lambda_10']\n",
    "scorePList = [dict(zip(models,scorePList))[m] for m in mm]\n",
    "scorePCList = [dict(zip(models,scorePCList))[m] for m in mm]\n",
    "biasPList = [dict(zip(models,biasPList))[m] for m in mm]\n",
    "biasPCList = [dict(zip(models,biasPCList))[m] for m in mm]\n",
    "maleRatio = [dict(zip(models,maleRatio))[m] for m in mm]\n",
    "modelsNames = mm"
   ]
  },
  {
   "cell_type": "code",
   "execution_count": null,
   "metadata": {},
   "outputs": [],
   "source": [
    "import matplotlib.pyplot as plt\n",
    "%matplotlib inline\n",
    "plt.figure(figsize=(4,2))\n",
    "plt.bar(modelsNames, biasPList)\n",
    "plt.ylabel('bias')\n",
    "plt.title('Avg abs( log( p(w,m) / p(w,f) ))')\n",
    "_=plt.xticks(modelsNames, rotation='vertical')\n",
    "\n",
    "plt.figure(figsize=(4,2))\n",
    "plt.bar(modelsNames, biasPCList, color=(0.6, 0.8, 0.5, 1))\n",
    "plt.title('Avg abs( log( p(w|m) / p(w|f) ))')\n",
    "plt.ylabel('bias')\n",
    "_=plt.xticks(modelsNames, rotation='vertical')\n",
    "\n",
    "plt.figure(figsize=(4,2))\n",
    "plt.bar(modelsNames, maleRatio)\n",
    "plt.title(' Male Ratio: p(m|gender word) ')\n",
    "plt.ylabel('bias')\n",
    "_=plt.xticks(modelsNames, rotation='vertical')"
   ]
  },
  {
   "cell_type": "code",
   "execution_count": null,
   "metadata": {},
   "outputs": [],
   "source": [
    "for i in range ( len(modelsNames)):\n",
    "    plt.figure(figsize=(12,2))\n",
    "    plt.title(modelsNames[i])\n",
    "    _=plt.hist(scorePList[i], bins=100 , range=(0,3))"
   ]
  },
  {
   "cell_type": "code",
   "execution_count": null,
   "metadata": {},
   "outputs": [],
   "source": [
    "for i in range ( len(modelsNames)):\n",
    "    plt.figure(figsize=(12,2))\n",
    "    plt.title(modelsNames[i])\n",
    "    _=plt.hist(scorePCList[i], bins=100 , range=(0,3))"
   ]
  }
 ],
 "metadata": {
  "kernelspec": {
   "display_name": "Python 3",
   "language": "python",
   "name": "python3"
  },
  "language_info": {
   "codemirror_mode": {
    "name": "ipython",
    "version": 3
   },
   "file_extension": ".py",
   "mimetype": "text/x-python",
   "name": "python",
   "nbconvert_exporter": "python",
   "pygments_lexer": "ipython3",
   "version": "3.7.1"
  }
 },
 "nbformat": 4,
 "nbformat_minor": 2
}
